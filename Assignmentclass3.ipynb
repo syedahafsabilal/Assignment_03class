{
  "nbformat": 4,
  "nbformat_minor": 0,
  "metadata": {
    "colab": {
      "provenance": []
    },
    "kernelspec": {
      "name": "python3",
      "display_name": "Python 3"
    },
    "language_info": {
      "name": "python"
    }
  },
  "cells": [
    {
      "cell_type": "code",
      "execution_count": 6,
      "metadata": {
        "colab": {
          "base_uri": "https://localhost:8080/"
        },
        "id": "u620RAmSH6zk",
        "outputId": "14c1d2d1-c440-488e-8756-bb67945f86ad"
      },
      "outputs": [
        {
          "output_type": "stream",
          "name": "stdout",
          "text": [
            "x is greater than 5\n",
            "For loop example\n",
            "i = 0\n",
            "i = 1\n",
            "i = 2\n",
            "While loop example\n",
            "count = 0\n",
            "count = 1\n",
            "count = 2\n",
            "List example:\n",
            "my_list: ['apple', 'banana', 'cherry']\n",
            "Length of my_list: 3\n",
            "First element of my_list: apple\n",
            "Tuple example:\n",
            "colours: ('red', 'green', 'blue')\n",
            "Length of colours: 3\n",
            "First element of colours: red\n",
            "Dictionary example:\n",
            "person: {'name': 'John', 'age': 30, 'city': 'New York'}\n",
            "Name of person: John\n",
            "Age of person: 30\n",
            "\n",
            " \n",
            "\n"
          ]
        }
      ],
      "source": [
        "#if else example\n",
        "x = 10\n",
        "if x > 5:\n",
        "  print(\"x is greater than 5\")\n",
        "else:\n",
        "  print(\"x is less than or equal to 5\")\n",
        "#loop\n",
        "print(\"For loop example\")\n",
        "for i in range(3):\n",
        "    print(\"i =\", i)\n",
        "print(\"While loop example\")\n",
        "count = 0\n",
        "while count < 3:\n",
        "    print(\"count =\", count)\n",
        "    count += 1\n",
        "#function\n",
        "\n",
        "def greet(name):\n",
        "        print(\"Hello, \" + name + \"!\")\n",
        "        greet(\"Alice\")\n",
        "# break and continue\n",
        "        print(\"break and continue example\")\n",
        "        for num in range(5):\n",
        "            if num == 2:\n",
        "                 break\n",
        "            if num == 4:\n",
        "               continue\n",
        "        print(num)\n",
        "        print(\"\\n \\n\")\n",
        "#list\n",
        "my_list =[\"apple\", \"banana\", \"cherry\"]\n",
        "print(\"List example:\")\n",
        "print(\"my_list:\", my_list)\n",
        "print(\"Length of my_list:\", len(my_list))\n",
        "print(\"First element of my_list:\", my_list[0])\n",
        "#tuple\n",
        "colours = (\"red\", \"green\", \"blue\")\n",
        "print(\"Tuple example:\")\n",
        "print(\"colours:\", colours)\n",
        "print(\"Length of colours:\", len(colours))\n",
        "print(\"First element of colours:\", colours[0])\n",
        "# Dictionary\n",
        "person = {\"name\": \"John\", \"age\": 30, \"city\": \"New York\"}\n",
        "print(\"Dictionary example:\")\n",
        "print(\"person:\", person)\n",
        "print(\"Name of person:\", person[\"name\"])\n",
        "print(\"Age of person:\", person[\"age\"])\n",
        "print(\"\\n \\n\")"
      ]
    }
  ]
}